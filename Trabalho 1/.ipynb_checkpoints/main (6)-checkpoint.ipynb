{
 "cells": [
  {
   "cell_type": "code",
   "execution_count": 1,
   "metadata": {},
   "outputs": [],
   "source": [
    "import sys \n",
    "import numpy as np\n",
    "from collections import defaultdict "
   ]
  },
  {
   "cell_type": "markdown",
   "metadata": {},
   "source": [
    "#### Reader Graph Files"
   ]
  },
  {
   "cell_type": "code",
   "execution_count": 2,
   "metadata": {},
   "outputs": [
    {
     "data": {
      "text/plain": [
       "array([[1, 3, 2, 3],\n",
       "       [3, 3, 4, 1],\n",
       "       [2, 4, 3, 3],\n",
       "       [3, 1, 3, 4]])"
      ]
     },
     "execution_count": 2,
     "metadata": {},
     "output_type": "execute_result"
    }
   ],
   "source": [
    "nameFile = \"files/teste.txt\"\n",
    "\n",
    "with open(nameFile) as f:\n",
    "    file = f.readlines()\n",
    "\n",
    "    # Remove '\\n'\n",
    "    file = ['{0}'.format(line.replace(\"\\n\", \"\")) for line in file]\n",
    "\n",
    "    # Read/Remove(pop) the first line with numberVertex and numberEdges\n",
    "    numberVertex, numberEdges = file.pop(0).split()\n",
    "    numberVertex = int(numberVertex)\n",
    "    numberEdges = int(numberEdges)\n",
    "\n",
    "    # Create Numpy Array = Matrix Adjacency\n",
    "    matrixAdjacency = np.zeros((numberVertex, numberVertex), dtype=\"int\")\n",
    "\n",
    "     # Update Matrix Adjacency with values of input file\n",
    "    for line in file:\n",
    "        line = line.split(\" \")\n",
    "        matrixAdjacency[ int(line[0]) ][ int(line[1]) ] = line[2]\n",
    "        matrixAdjacency[ int(line[1]) ][ int(line[0]) ] = line[2]\n",
    "          \n",
    "matrixAdjacency"
   ]
  },
  {
   "cell_type": "markdown",
   "metadata": {},
   "source": [
    "####  Class Graph"
   ]
  },
  {
   "cell_type": "code",
   "execution_count": 3,
   "metadata": {
    "code_folding": [
     1,
     6,
     16,
     24,
     43
    ]
   },
   "outputs": [],
   "source": [
    "class Graph(): \n",
    "    def __init__(self, numberVertex): \n",
    "        self.numberVertex = numberVertex \n",
    "        # Create a Matrix of Zeros\n",
    "        self.graph = [[0 for column in range(numberVertex)] for row in range(numberVertex)] \n",
    "        \n",
    "    def printMST(self, parent): \n",
    "        \n",
    "        matrizMST = np.zeros((self.numberVertex, self.numberVertex), dtype=\"int\")\n",
    "        #print(\"Edge \\tWeight\")\n",
    "        for i in range(1, self.numberVertex): \n",
    "            #print(parent[i], \"-\", i, \"\\t\", self.graph[i][ parent[i] ])\n",
    "            matrizMST[parent[i]][i] = self.graph[i][parent[i]]\n",
    "            matrizMST[i][parent[i]] = self.graph[i][parent[i]]\n",
    "        return matrizMST\n",
    "     \n",
    "    def minKey(self, key, mstSet): \n",
    "        min = sys.maxsize \n",
    "        for v in range(self.numberVertex): \n",
    "            if key[v] < min and mstSet[v] == False: \n",
    "                min = key[v] \n",
    "                min_index = v \n",
    "        return min_index \n",
    "  \n",
    "    def primMST(self): \n",
    "\n",
    "        key = [sys.maxsize] * self.numberVertex\n",
    "        parent = [None] * self.numberVertex\n",
    "        key[0] = 0 \n",
    "        mstSet = [False] * self.numberVertex\n",
    "  \n",
    "        parent[0] = -1 \n",
    "  \n",
    "        for cout in range(self.numberVertex):\n",
    "            u = self.minKey(key, mstSet) \n",
    "            mstSet[u] = True\n",
    "            for v in range(self.numberVertex): \n",
    "                if self.graph[u][v] > 0 and mstSet[v] == False and key[v] > self.graph[u][v]: \n",
    "                    key[v] = self.graph[u][v] \n",
    "                    parent[v] = u \n",
    "        matrizMST = self.printMST(parent) \n",
    "        return matrizMST       \n",
    "    \n",
    "    def cicloEuclidiano(self, MST):\n",
    "        import random\n",
    "\n",
    "        nodosVisitados = []\n",
    "        #nodoInicial = random.randint(0, numberVertices-1)\n",
    "        nodoInicial = 1\n",
    "\n",
    "        cicloEuclediano = []\n",
    "        cicloEuclediano.append(nodoInicial)\n",
    "        stack = []\n",
    "        allVisited = 0\n",
    "\n",
    "\n",
    "        while(allVisited != 1):\n",
    "            nodosVisitados.append(nodoInicial)\n",
    "            #print(\"nodosVisitados\", nodosVisitados)\n",
    "\n",
    "\n",
    "            #print(\"Nodo: \", nodoInicial, \"Arestas: \", MST[nodoInicial])\n",
    "            indexNodo = 0\n",
    "\n",
    "\n",
    "\n",
    "            for aresta in MST[nodoInicial]:\n",
    "\n",
    "\n",
    "                #print(\"\\t Aresta[\", indexNodo,\"] = \", aresta)\n",
    "                if aresta != 0 and (indexNodo not in nodosVisitados):\n",
    "\n",
    "                    cicloEuclediano.append(indexNodo)\n",
    "                    stack.append(nodoInicial)\n",
    "                    nodoInicial = indexNodo   \n",
    "                    break\n",
    "\n",
    "                try:\n",
    "                    if (len(MST[nodoInicial])-1) == indexNodo:\n",
    "                        nodoInicial = stack.pop(len(stack)-1)\n",
    "                        cicloEuclediano.append(nodoInicial)\n",
    "\n",
    "                    indexNodo = indexNodo + 1\n",
    "                except IndexError:\n",
    "                    allVisited = 1\n",
    "            #print(\"\\n\")\n",
    "        print(\"cicloEuclediano\", cicloEuclediano)\n",
    "        return cicloEuclediano\n",
    "    \n",
    "    def cicloHamiltoniano(self, cicloEuclidiano):\n",
    "        cicloHamiltoniano = []\n",
    "        for nodo in cicloEuclidiano:\n",
    "            if nodo not in cicloHamiltoniano:\n",
    "                cicloHamiltoniano.append(nodo)\n",
    "        print(\"cicloHamiltoniano\", cicloHamiltoniano)\n",
    "        return cicloHamiltoniano"
   ]
  },
  {
   "cell_type": "code",
   "execution_count": 5,
   "metadata": {},
   "outputs": [
    {
     "name": "stdout",
     "output_type": "stream",
     "text": [
      "Matriz de Adjacência:\n",
      " [[1 3 2 3]\n",
      " [3 3 4 1]\n",
      " [2 4 3 3]\n",
      " [3 1 3 4]] \n",
      "\n",
      "MST:\n",
      " [[0 3 2 0]\n",
      " [3 0 0 1]\n",
      " [2 0 0 0]\n",
      " [0 1 0 0]] \n",
      "\n",
      "cicloEuclediano [1, 0, 2, 0, 1, 3, 1]\n"
     ]
    },
    {
     "ename": "NameError",
     "evalue": "name 'cicloEuclediano' is not defined",
     "output_type": "error",
     "traceback": [
      "\u001b[0;31m---------------------------------------------------------------------------\u001b[0m",
      "\u001b[0;31mNameError\u001b[0m                                 Traceback (most recent call last)",
      "\u001b[0;32m<ipython-input-5-cf8deee69bda>\u001b[0m in \u001b[0;36m<module>\u001b[0;34m\u001b[0m\n\u001b[1;32m      7\u001b[0m \u001b[0;34m\u001b[0m\u001b[0m\n\u001b[1;32m      8\u001b[0m \u001b[0mcicloEuclidiano\u001b[0m \u001b[0;34m=\u001b[0m \u001b[0mg\u001b[0m\u001b[0;34m.\u001b[0m\u001b[0mcicloEuclidiano\u001b[0m\u001b[0;34m(\u001b[0m\u001b[0mMST\u001b[0m\u001b[0;34m)\u001b[0m\u001b[0;34m\u001b[0m\u001b[0;34m\u001b[0m\u001b[0m\n\u001b[0;32m----> 9\u001b[0;31m \u001b[0mg\u001b[0m\u001b[0;34m.\u001b[0m\u001b[0mcicloHamiltoniano\u001b[0m\u001b[0;34m(\u001b[0m\u001b[0mcicloEuclidiano\u001b[0m\u001b[0;34m)\u001b[0m\u001b[0;34m\u001b[0m\u001b[0;34m\u001b[0m\u001b[0m\n\u001b[0m\u001b[1;32m     10\u001b[0m \u001b[0;32mpass\u001b[0m\u001b[0;34m\u001b[0m\u001b[0;34m\u001b[0m\u001b[0m\n",
      "\u001b[0;32m<ipython-input-3-5c41c0bca99f>\u001b[0m in \u001b[0;36mcicloHamiltoniano\u001b[0;34m(self, cicloEuclidiano)\u001b[0m\n\u001b[1;32m     90\u001b[0m     \u001b[0;32mdef\u001b[0m \u001b[0mcicloHamiltoniano\u001b[0m\u001b[0;34m(\u001b[0m\u001b[0mself\u001b[0m\u001b[0;34m,\u001b[0m \u001b[0mcicloEuclidiano\u001b[0m\u001b[0;34m)\u001b[0m\u001b[0;34m:\u001b[0m\u001b[0;34m\u001b[0m\u001b[0;34m\u001b[0m\u001b[0m\n\u001b[1;32m     91\u001b[0m         \u001b[0mcicloHamiltoniano\u001b[0m \u001b[0;34m=\u001b[0m \u001b[0;34m[\u001b[0m\u001b[0;34m]\u001b[0m\u001b[0;34m\u001b[0m\u001b[0;34m\u001b[0m\u001b[0m\n\u001b[0;32m---> 92\u001b[0;31m         \u001b[0;32mfor\u001b[0m \u001b[0mnodo\u001b[0m \u001b[0;32min\u001b[0m \u001b[0mcicloEuclediano\u001b[0m\u001b[0;34m:\u001b[0m\u001b[0;34m\u001b[0m\u001b[0;34m\u001b[0m\u001b[0m\n\u001b[0m\u001b[1;32m     93\u001b[0m             \u001b[0;32mif\u001b[0m \u001b[0mnodo\u001b[0m \u001b[0;32mnot\u001b[0m \u001b[0;32min\u001b[0m \u001b[0mcicloHamiltoniano\u001b[0m\u001b[0;34m:\u001b[0m\u001b[0;34m\u001b[0m\u001b[0;34m\u001b[0m\u001b[0m\n\u001b[1;32m     94\u001b[0m                 \u001b[0mcicloHamiltoniano\u001b[0m\u001b[0;34m.\u001b[0m\u001b[0mappend\u001b[0m\u001b[0;34m(\u001b[0m\u001b[0mnodo\u001b[0m\u001b[0;34m)\u001b[0m\u001b[0;34m\u001b[0m\u001b[0;34m\u001b[0m\u001b[0m\n",
      "\u001b[0;31mNameError\u001b[0m: name 'cicloEuclediano' is not defined"
     ]
    }
   ],
   "source": [
    "g = Graph(numberVertex)\n",
    "g.graph = list(matrixAdjacency)\n",
    "print(\"Matriz de Adjacência:\\n\", matrixAdjacency, \"\\n\")\n",
    "\n",
    "MST = g.primMST()\n",
    "print(\"MST:\\n\", MST, \"\\n\")\n",
    "\n",
    "cicloEuclidiano = g.cicloEuclidiano(MST)\n",
    "g.cicloHamiltoniano(cicloEuclidiano)\n",
    "pass"
   ]
  },
  {
   "cell_type": "code",
   "execution_count": null,
   "metadata": {
    "code_folding": [
     7
    ]
   },
   "outputs": [],
   "source": [
    "\n",
    "  \n",
    "class Graph: \n",
    "  \n",
    "    def __init__(self): \n",
    "        self.graph = defaultdict(list) \n",
    "  \n",
    "    def addEdge(self, u, v): \n",
    "        self.graph[u].append(v) \n",
    "  \n",
    "    def DFSUtil(self, v, visited): \n",
    "        visited[v] = True\n",
    "        print(v, end = ' ') \n",
    "    \n",
    "        for i in self.graph[v]: \n",
    "            if visited[i] == False: \n",
    "                self.DFSUtil(i, visited) \n",
    "  \n",
    "    def DFS(self, v): \n",
    "        visited = [False] * (len(self.graph))\n",
    "        self.DFSUtil(v, visited) \n"
   ]
  },
  {
   "cell_type": "code",
   "execution_count": null,
   "metadata": {},
   "outputs": [],
   "source": [
    "matrixAdjacency"
   ]
  },
  {
   "cell_type": "code",
   "execution_count": null,
   "metadata": {},
   "outputs": [],
   "source": [
    "g = Graph()\n",
    "\n",
    "numberLine = 0\n",
    "for line in matrixAdjacency:\n",
    "    numberColumns = 0\n",
    "    for columns in line:\n",
    "        \n",
    "        if columns != 0:\n",
    "            g.addEdge(numberLine, numberColumns)\n",
    "        numberColumns += 1\n",
    "        \n",
    "    numberLine +=1"
   ]
  },
  {
   "cell_type": "code",
   "execution_count": null,
   "metadata": {},
   "outputs": [],
   "source": [
    "g.DFS(3)"
   ]
  },
  {
   "cell_type": "code",
   "execution_count": null,
   "metadata": {},
   "outputs": [],
   "source": []
  },
  {
   "cell_type": "code",
   "execution_count": null,
   "metadata": {},
   "outputs": [],
   "source": []
  },
  {
   "cell_type": "code",
   "execution_count": null,
   "metadata": {},
   "outputs": [],
   "source": []
  },
  {
   "cell_type": "code",
   "execution_count": null,
   "metadata": {},
   "outputs": [],
   "source": []
  },
  {
   "cell_type": "code",
   "execution_count": null,
   "metadata": {},
   "outputs": [],
   "source": []
  },
  {
   "cell_type": "code",
   "execution_count": null,
   "metadata": {},
   "outputs": [],
   "source": []
  },
  {
   "cell_type": "code",
   "execution_count": null,
   "metadata": {},
   "outputs": [],
   "source": [
    "MST = np.zeros((8, 8), dtype=\"int\")\n",
    "#A-C\n",
    "MST[0][2] = 1\n",
    "MST[2][0] = 1\n",
    "\n",
    "#C-H\n",
    "MST[2][7] = 1\n",
    "MST[7][2] = 1\n",
    "\n",
    "#B-C\n",
    "MST[1][2] = 1\n",
    "MST[2][1] = 1\n",
    "\n",
    "#B-D\n",
    "MST[1][3] = 1\n",
    "MST[3][1] = 1\n",
    "\n",
    "#D-F\n",
    "MST[3][5] = 1\n",
    "MST[5][3] = 1\n",
    "    \n",
    "#F-G\n",
    "MST[5][6] = 1\n",
    "MST[6][5] = 1\n",
    "\n",
    "MST[5][4] = 1\n",
    "MST[4][5] = 1"
   ]
  }
 ],
 "metadata": {
  "kernelspec": {
   "display_name": "Python 3",
   "language": "python",
   "name": "python3"
  },
  "language_info": {
   "codemirror_mode": {
    "name": "ipython",
    "version": 3
   },
   "file_extension": ".py",
   "mimetype": "text/x-python",
   "name": "python",
   "nbconvert_exporter": "python",
   "pygments_lexer": "ipython3",
   "version": "3.7.1"
  }
 },
 "nbformat": 4,
 "nbformat_minor": 2
}
