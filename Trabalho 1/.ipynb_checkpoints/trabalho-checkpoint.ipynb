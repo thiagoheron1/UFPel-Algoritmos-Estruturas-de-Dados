{
 "cells": [
  {
   "cell_type": "code",
   "execution_count": 1,
   "metadata": {},
   "outputs": [],
   "source": [
    "import sys \n",
    "import numpy as np"
   ]
  },
  {
   "cell_type": "markdown",
   "metadata": {},
   "source": [
    "### Class Graph"
   ]
  },
  {
   "cell_type": "code",
   "execution_count": 37,
   "metadata": {
    "code_folding": [
     4,
     8,
     33,
     46,
     49,
     56
    ]
   },
   "outputs": [],
   "source": [
    "from collections import defaultdict \n",
    "\n",
    "class Graph: \n",
    "    \n",
    "    def __init__(self):\n",
    "        self.graph = defaultdict(list) \n",
    "        self.matrixAdjacency = []\n",
    "    \n",
    "    def readerInputFile(self, nameFile):    \n",
    "        with open(nameFile) as f:\n",
    "            file = f.readlines()\n",
    "\n",
    "            # Remove '\\n'\n",
    "            file = ['{0}'.format(line.replace(\"\\n\", \"\")) for line in file]\n",
    "\n",
    "            # Read/Remove(pop) the first line with numberVertex and numberEdges\n",
    "            numberVertex, numberEdges = file.pop(0).split()\n",
    "            numberVertex = int(numberVertex)\n",
    "            numberEdges = int(numberEdges)\n",
    "\n",
    "            # Create Numpy Array = Matrix Adjacency\n",
    "            matrixAdjacency = np.zeros((numberVertex, numberVertex), dtype=\"int\")\n",
    "\n",
    "            # Update Matrix Adjacency with values of input file\n",
    "            for line in file:\n",
    "                line = line.split(\" \")\n",
    "                matrixAdjacency[ int(line[0]) ][ int(line[1]) ] = line[2]\n",
    "                matrixAdjacency[ int(line[1]) ][ int(line[0]) ] = line[2]\n",
    "        \n",
    "        self.matrixAdjacency = matrixAdjacency\n",
    "        \n",
    "        self.updateSelfGraph()\n",
    "    \n",
    "    def updateSelfGraph(self):\n",
    "        numberLine = 0\n",
    "        for line in self.matrixAdjacency:\n",
    "            numberColumns = 0\n",
    "            for columns in line:\n",
    "\n",
    "                if columns != 0:\n",
    "                    self.addEdge(numberLine, numberColumns)\n",
    "                numberColumns += 1\n",
    "\n",
    "            numberLine +=1     \n",
    "    \n",
    "    def addEdge(self, u, v):\n",
    "        self.graph[u].append(v) \n",
    "\n",
    "    \n",
    "    \n",
    "    # Métodos para a Solução Aproximada\n",
    "    \n",
    "    \n",
    "    \n",
    "    # Métodos para a Solução Ótima\n",
    "    def DFSUtil(self, v, visited): \n",
    "        visited[v] = True\n",
    "        print(v, end = ' ') \n",
    "        for i in self.graph[v]: \n",
    "            if visited[i] == False: \n",
    "                self.DFSUtil(i, visited) \n",
    "    \n",
    "    def DFS(self, v): \n",
    "        visited = [False] * (len(self.graph))\n",
    "        self.DFSUtil(v, visited) \n",
    "\n",
    "    "
   ]
  },
  {
   "cell_type": "code",
   "execution_count": null,
   "metadata": {},
   "outputs": [],
   "source": []
  },
  {
   "cell_type": "code",
   "execution_count": null,
   "metadata": {},
   "outputs": [],
   "source": []
  },
  {
   "cell_type": "markdown",
   "metadata": {},
   "source": [
    "### Reader Input File"
   ]
  },
  {
   "cell_type": "code",
   "execution_count": 41,
   "metadata": {},
   "outputs": [
    {
     "name": "stdout",
     "output_type": "stream",
     "text": [
      "Matrix Adjacency:\n",
      " [[0 3 1 3]\n",
      " [3 3 3 1]\n",
      " [1 3 3 3]\n",
      " [3 1 3 4]]\n",
      "\n",
      "\n",
      "Graph: \n",
      " defaultdict(<class 'list'>, {0: [1, 2, 3], 1: [0, 1, 2, 3], 2: [0, 1, 2, 3], 3: [0, 1, 2, 3]})\n"
     ]
    }
   ],
   "source": [
    "g = Graph()\n",
    "nameFile = \"files/teste.txt\"\n",
    "\n",
    "g.readerInputFile(nameFile)\n",
    "print(\"Matrix Adjacency:\\n\", g.matrixAdjacency)\n",
    "print(\"\\n\")\n",
    "print(\"Graph: \\n\", g.graph)"
   ]
  },
  {
   "cell_type": "code",
   "execution_count": null,
   "metadata": {},
   "outputs": [],
   "source": []
  }
 ],
 "metadata": {
  "kernelspec": {
   "display_name": "Python 3",
   "language": "python",
   "name": "python3"
  },
  "language_info": {
   "codemirror_mode": {
    "name": "ipython",
    "version": 3
   },
   "file_extension": ".py",
   "mimetype": "text/x-python",
   "name": "python",
   "nbconvert_exporter": "python",
   "pygments_lexer": "ipython3",
   "version": "3.7.1"
  }
 },
 "nbformat": 4,
 "nbformat_minor": 2
}
